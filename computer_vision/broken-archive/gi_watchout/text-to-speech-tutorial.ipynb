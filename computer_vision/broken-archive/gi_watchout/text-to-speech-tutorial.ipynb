{
 "cells": [
  {
   "cell_type": "code",
   "execution_count": 1,
   "metadata": {},
   "outputs": [],
   "source": [
    "import pyttsx3\n",
    "engine = pyttsx3.init()\n",
    "engine.say(\"I will speak this text\")\n",
    "engine.runAndWait()"
   ]
  },
  {
   "cell_type": "code",
   "execution_count": 4,
   "metadata": {},
   "outputs": [
    {
     "name": "stdout",
     "output_type": "stream",
     "text": [
      "180\n"
     ]
    }
   ],
   "source": [
    "\"\"\" RATE\"\"\"\n",
    "rate = engine.getProperty('rate')   # getting details of current speaking rate\n",
    "print (rate)                        #printing current voice rate\n",
    "engine.setProperty('rate', 180)     # setting up new voice rate\n",
    "\n",
    "\n",
    "engine.say(\"Hello World!\")\n",
    "engine.say(\"자전거, 자동차, 비행기, 보행자.\")\n",
    "engine.say(\"지나가겠습니다!\")\n",
    "engine.runAndWait()\n",
    "engine.stop()"
   ]
  },
  {
   "cell_type": "code",
   "execution_count": null,
   "metadata": {},
   "outputs": [],
   "source": []
  }
 ],
 "metadata": {
  "kernelspec": {
   "display_name": "Python 3",
   "language": "python",
   "name": "python3"
  },
  "language_info": {
   "codemirror_mode": {
    "name": "ipython",
    "version": 3
   },
   "file_extension": ".py",
   "mimetype": "text/x-python",
   "name": "python",
   "nbconvert_exporter": "python",
   "pygments_lexer": "ipython3",
   "version": "3.8.5"
  }
 },
 "nbformat": 4,
 "nbformat_minor": 4
}
